{
 "cells": [
  {
   "cell_type": "markdown",
   "metadata": {},
   "source": [
    "<span style=\"font-size: 14pt\">EREVAN, May-June 2017</span>\n",
    "\n",
    "<span style=\"font-size: 16pt\"> HW #3: ARIMA model\n",
    "\n",
    "<span style=\"color:blue; font-size: 12pt\">Alexey Romanenko </span>,\n",
    "<span style=\"color:blue; font-size: 12pt; font-family: 'Verdana'\">alexromsput@gmail.com</span>\n",
    "\n",
    "\n",
    "<h1 align=\"center\"> Home Work 3 </h1>\n",
    "\n",
    "## Answer questions\n",
    "\n",
    "1) **Find equation for $y_t$ that corresponds to the following ARIMA model**:\n",
    " - 1) ARIMA $(p=0,d=k,q=1)$,\n",
    " - 2) ARIMA $(p=0,d=k+1,d=1)(P=1, D=1, Q=0)_s$,\n",
    "\n",
    "<Answer>\n",
    "\n",
    "2)    ** Write canonic form of ARMA model for the time series **\n",
    " - 1) $$y_t = a_1 y_{t-1} + a_2 y_{t-4} - a_1 a_2 y_{t-5} + \\varepsilon_t$$ (Hint: seasnality period is equal to 4).\n",
    " - 2) $$y_t = y_{t-d} + \\varepsilon_t +b_2 + \\varepsilon_{t-2} + B_1 \\varepsilon_{t-s} + b_2 B_1 \\varepsilon_{t-s-2} $$\n",
    "\n",
    "    \n",
    "3) **Proof that ARIMA$(p=0,d=2, q=2)$ is equivalent to Holt (linear trend) with:**\n",
    "\t\t$$(1-L)^2Y_t = (1-\\phi_1 L-\\phi_2 L^2)\\varepsilon_t$$\n",
    "\t\t$$\\phi_1 = 2-\\alpha-\\alpha\\beta, \\text{ }\\phi_2 = \\alpha-1$$\n",
    "\n",
    "<Answer>"
   ]
  },
  {
   "cell_type": "markdown",
   "metadata": {},
   "source": [
    "#### Solution"
   ]
  },
  {
   "cell_type": "markdown",
   "metadata": {},
   "source": [
    "1) 1. \n",
    "$$\n",
    "(1 - L)^ky_t=(1-L)e_t\n",
    "$$\n",
    "$$\n",
    "\\sum_{j=0}^{k}{ (-1)^jC_n^jL^jy_t } = e_t - e_{t - 1}\n",
    "$$\n",
    "$$\n",
    "y_t = \\sum_{j=1}^{k}{ (-1)^{j + 1}C_n^jy_{t - j} } + e_t - e_{t - 1}\n",
    "$$\n",
    "\n",
    "2.\n",
    "$$\n",
    "(1 - \\Phi_1B^s)(1 - B)^{k + 1}(1 - B^s)y_t = (1 - B)e_t\n",
    "$$\n",
    "$$\n",
    "(1-B)^{k + 1}(1 - (1 + \\Phi_1)B^s + \\Phi_1B^{2s})y_t = e_t - e_{t - 1}\n",
    "$$\n",
    "$$\n",
    "\\sum_{j = 0}^{k + 1}{ (-1)^jC_n^jB^j (y_t - (1 + \\Phi_1)y_{t - s} + \\Phi_1y_{t-2s}) } = e_t - e_{t - 1}\n",
    "$$\n",
    "$$\n",
    "y_t - (1 + \\Phi_1)y_{t - s} + \\Phi_1y_{t-2s} = \\sum_{j = 1}^{k + 1}{ (-1)^jC_n^jB^j (y_t - (1 + \\Phi_1)y_{t - s} + \\Phi_1y_{t-2s}) } + e_t - e_{t - 1}\n",
    "$$\n",
    "$$\n",
    "y_t = (1 + \\Phi_1)y_{t - s} - \\Phi_1y_{t-2s} + \\sum_{j = 1}^{k + 1}{ (-1)^jC_n^j (y_{t - j} - (1 + \\Phi_1)y_{t - s - j} + \\Phi_1y_{t-2s - j}) } + e_t - e_{t - 1}\n",
    "$$"
   ]
  },
  {
   "cell_type": "markdown",
   "metadata": {
    "collapsed": true
   },
   "source": [
    "2)\n",
    "a.\n",
    "$$\n",
    "y_t - a_1y_{t - 1} - a_2y_{t - 4} + a_1a_2y_{t - 5} = \\varepsilon_t\n",
    "$$\n",
    "$$\n",
    "(1 - a_1B - a_2B^4 + a_1a_2B^5)y_t = \\varepsilon_t\n",
    "$$\n",
    "$$\n",
    "(1 - a_2B^4)(1 - a_1B)y_t = \\varepsilon_t\n",
    "$$\n",
    "Our model is $ ARMA(1, 0)x(1, 0)_4 $\n",
    "\n",
    "b.\n",
    "I think there's still an error ans our model should be like $y_t = y_{t-d} + \\varepsilon_t + b_2  \\varepsilon_{t-2} + B_1 \\varepsilon_{t-s} + b_2 B_1 \\varepsilon_{t-s-2} $\n",
    "$$\n",
    "y_t - y_{t - d} = (1 + b_2L^2)\\varepsilon_t + B_1(1 + b_2L^2)\\varepsilon_{t - s}\n",
    "$$\n",
    "$$\n",
    "(1 - L^d)y_t = (1 + b_2L^2)(1 + B_1L^s)\\varepsilon_t\n",
    "$$\n",
    "Our model is $ARIMA(0, d, 2)x(0, 0, 1)_s $"
   ]
  },
  {
   "cell_type": "markdown",
   "metadata": {},
   "source": [
    "3) From Holt's model\n",
    "$$\n",
    "\\hat y_t = l_{t - 1} + b_{t - 1} = \\hat y_{t - 1} + b_{t - 2} + \\alpha (1 + \\beta) e_{t-1}\n",
    "$$\n",
    "from ARIMA\n",
    "$$\n",
    "(1 - 2L + L^2)Y_t = (1 - (2 - \\alpha - \\alpha \\beta)L - (\\alpha - 1)L^2)\\varepsilon_t\n",
    "$$\n",
    "$$\n",
    "Y_t - 2Y_{t - 1} + Y_{t - 1} = (Y_t - \\hat Y_t) - 2(Y_{t - 1} - \\hat Y_{t - 1}) + \\alpha(1 + \\beta)\\varepsilon_{t - 1} + (Y_{t - 2} - \\hat Y_{t - 2}) - \\alpha \\varepsilon_{t - 2}\n",
    "$$\n",
    "$$\n",
    "\\hat Y_t = \\hat Y_{t - 1} + \\alpha(1 + \\beta)\\varepsilon_{t - 1} + \\hat Y_{t - 1} - \\hat Y_{t - 2} - \\alpha \\varepsilon_{t - 2}\n",
    "$$\n",
    "Now let's see what $ \\hat Y_{t - 1} $ is\n",
    "$$\n",
    "\\hat Y_{t - 1} = l_{t - 2} + b_{t - 2}\n",
    "$$\n",
    "and $\\hat Y_{t - 2} + \\alpha \\varepsilon_{t - 2}$ is just $l_{t - 2}$\n",
    "So we have\n",
    "$$\n",
    "\\hat Y_t = \\hat Y_{t - 1} + \\alpha(1 + \\beta)\\varepsilon_{t - 1} + b_{t - 2}\n",
    "$$"
   ]
  }
 ],
 "metadata": {
  "anaconda-cloud": {},
  "kernelspec": {
   "display_name": "Python 3",
   "language": "python",
   "name": "python3"
  },
  "language_info": {
   "codemirror_mode": {
    "name": "ipython",
    "version": 3
   },
   "file_extension": ".py",
   "mimetype": "text/x-python",
   "name": "python",
   "nbconvert_exporter": "python",
   "pygments_lexer": "ipython3",
   "version": "3.5.3"
  }
 },
 "nbformat": 4,
 "nbformat_minor": 1
}
